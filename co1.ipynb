{
  "nbformat": 4,
  "nbformat_minor": 0,
  "metadata": {
    "colab": {
      "provenance": [],
      "authorship_tag": "ABX9TyPXm2OAUQLkczXI3xifA9DC",
      "include_colab_link": true
    },
    "kernelspec": {
      "name": "python3",
      "display_name": "Python 3"
    },
    "language_info": {
      "name": "python"
    }
  },
  "cells": [
    {
      "cell_type": "markdown",
      "metadata": {
        "id": "view-in-github",
        "colab_type": "text"
      },
      "source": [
        "<a href=\"https://colab.research.google.com/github/AnjaliR7/python/blob/main/co1.ipynb\" target=\"_parent\"><img src=\"https://colab.research.google.com/assets/colab-badge.svg\" alt=\"Open In Colab\"/></a>"
      ]
    },
    {
      "cell_type": "markdown",
      "source": [
        "Enter 2 lists of integers. Check (a) whether list are of same value\n"
      ],
      "metadata": {
        "id": "nksjr41gCVV6"
      }
    },
    {
      "cell_type": "markdown",
      "source": [],
      "metadata": {
        "id": "-j5zerni0_pQ"
      }
    },
    {
      "cell_type": "markdown",
      "source": [
        "Add ‘ing’ at the end of a given string. If it already ends with ‘ing’, then add ‘ly’\n"
      ],
      "metadata": {
        "id": "Fh4hsB2PEMrE"
      }
    },
    {
      "cell_type": "markdown",
      "source": [],
      "metadata": {
        "id": "fVx2sVQVyJtr"
      }
    },
    {
      "cell_type": "code",
      "source": [
        "number = int(input (\"Enter the number: \"))\n",
        "# We are using \"for loop\" to iterate the multiplication 10 times\n",
        "print (\"The Multiplication Table of: \", number)\n",
        "for count in range(1, 11):\n",
        "   print (number, 'x', count, '=', number * count)"
      ],
      "metadata": {
        "colab": {
          "base_uri": "https://localhost:8080/"
        },
        "id": "GxcSm6zpyJ_Q",
        "outputId": "7c1a3ee8-52af-4d86-a4e6-b3e3c1dee904"
      },
      "execution_count": null,
      "outputs": [
        {
          "output_type": "stream",
          "name": "stdout",
          "text": [
            "Enter the number: 5\n",
            "The Multiplication Table of:  5\n",
            "5 x 1 = 5\n",
            "5 x 2 = 10\n",
            "5 x 3 = 15\n",
            "5 x 4 = 20\n",
            "5 x 5 = 25\n",
            "5 x 6 = 30\n",
            "5 x 7 = 35\n",
            "5 x 8 = 40\n",
            "5 x 9 = 45\n",
            "5 x 10 = 50\n"
          ]
        }
      ]
    },
    {
      "cell_type": "code",
      "source": [
        "st=input(\"enter a string\")\n",
        "if st.endswith(\"ing\"):\n",
        "  n=st+\"ly\"\n",
        "else:\n",
        "  n=st+\"ing\"\n",
        "print(n)\n"
      ],
      "metadata": {
        "colab": {
          "base_uri": "https://localhost:8080/"
        },
        "id": "WjgrymnSEiC8",
        "outputId": "4c65b4c3-1bab-496d-d011-b0c635dea0ac"
      },
      "execution_count": null,
      "outputs": [
        {
          "output_type": "stream",
          "name": "stdout",
          "text": [
            "enter a stringplaying\n",
            "playingly\n"
          ]
        }
      ]
    },
    {
      "cell_type": "code",
      "source": [],
      "metadata": {
        "id": "BqV2GurS15cH"
      },
      "execution_count": null,
      "outputs": []
    },
    {
      "cell_type": "code",
      "source": [
        "lst1=[1,2,3,4,5]\n",
        "lst2=[6,4,2,7,9]\n",
        "if len(lst1)==len(lst2):\n",
        "        print(\"same\")\n",
        "else:\n",
        "        print(\"not same\")\n"
      ],
      "metadata": {
        "colab": {
          "base_uri": "https://localhost:8080/"
        },
        "id": "HqvNyFWhC09C",
        "outputId": "addb2ed2-729f-41ef-aebb-2dfdb6fd09b4"
      },
      "execution_count": null,
      "outputs": [
        {
          "output_type": "stream",
          "name": "stdout",
          "text": [
            "same\n"
          ]
        }
      ]
    },
    {
      "cell_type": "markdown",
      "source": [
        "Enter 2 lists of integers. (b) whether list sums to same value"
      ],
      "metadata": {
        "id": "Wsu40WliI-zj"
      }
    },
    {
      "cell_type": "code",
      "source": [
        "lst1=[1,2,3,4,5]\n",
        "lst2=[4,2,3,6,7]\n",
        "print(\"sum of lst1 is\",sum(lst1))\n",
        "print(\"sum of lst2 is\",sum(lst2))\n",
        "if sum(lst1)==sum(lst2):\n",
        "  print(\"sum of list 1 and 2 are same\")\n",
        "else:\n",
        "  print(\"sum of list 1 and 2 are different\")"
      ],
      "metadata": {
        "colab": {
          "base_uri": "https://localhost:8080/"
        },
        "id": "sajkSRQBI_zp",
        "outputId": "c448cb29-b549-41b1-c66d-43ee5838d7a8"
      },
      "execution_count": null,
      "outputs": [
        {
          "output_type": "stream",
          "name": "stdout",
          "text": [
            "sum of lst1 is 15\n",
            "sum of lst2 is 22\n",
            "sum of list 1 and 2 are different\n"
          ]
        }
      ]
    },
    {
      "cell_type": "markdown",
      "source": [
        "mm"
      ],
      "metadata": {
        "id": "x6KYLXrMvsdx"
      }
    },
    {
      "cell_type": "code",
      "source": [
        "def multiply_numbers(list):\n",
        "   prod = 1\n",
        "   for i in list:\n",
        "      prod = prod*i\n",
        "   return prod\n",
        "given_list = [2,1,3]\n",
        "print('The list is:',given_list)\n",
        "print(\"The product is: \")\n",
        "print(multiply_numbers(given_list))"
      ],
      "metadata": {
        "colab": {
          "base_uri": "https://localhost:8080/"
        },
        "id": "adXbLiKbvuJo",
        "outputId": "da1fa122-0b59-42ae-d738-74cc25530ac4"
      },
      "execution_count": null,
      "outputs": [
        {
          "output_type": "stream",
          "name": "stdout",
          "text": [
            "The list is: [2, 1, 3]\n",
            "The product is: \n",
            "6\n"
          ]
        }
      ]
    },
    {
      "cell_type": "markdown",
      "source": [
        "Prompt the user for a list of integers. For all values greater than 100, store ‘over’ instead.\n"
      ],
      "metadata": {
        "id": "tjErC9TvKMRi"
      }
    },
    {
      "cell_type": "code",
      "source": [
        "n=int(input(\"enter the no. of elements:\"))\n",
        "list=[]\n",
        "for i in range(n):\n",
        "  a=int(input(\"enter the integers:\"))\n",
        "  if a<100:\n",
        "    list.append(a)\n",
        "  else:\n",
        "    list.append(\"over\")\n",
        "print(list)"
      ],
      "metadata": {
        "colab": {
          "base_uri": "https://localhost:8080/"
        },
        "id": "_PzW0wwsKQrS",
        "outputId": "9f6fc26b-9a43-4e64-bcd1-21c7590a59ad"
      },
      "execution_count": null,
      "outputs": [
        {
          "output_type": "stream",
          "name": "stdout",
          "text": [
            "enter the no. of elements:5\n",
            "enter the integers:111\n",
            "enter the integers:50\n",
            "enter the integers:400\n",
            "enter the integers:99\n",
            "enter the integers:200\n",
            "['over', 50, 'over', 99, 'over']\n"
          ]
        }
      ]
    },
    {
      "cell_type": "markdown",
      "source": [
        "Enter 2 lists of integers.  (c) whether any value occur in both"
      ],
      "metadata": {
        "id": "h02wzhIXM1xq"
      }
    },
    {
      "cell_type": "code",
      "source": [
        "lst1=[1,2,3,4,5]\n",
        "lst2=[2,6,7,8,9]\n",
        "f=0\n",
        "for i in lst1:\n",
        "  for j in lst2:\n",
        "    if i==j:\n",
        "      f=1\n",
        "      print(i,\"is present in both\")\n",
        "if f==0:\n",
        "  print(\"not present\")"
      ],
      "metadata": {
        "colab": {
          "base_uri": "https://localhost:8080/"
        },
        "id": "nfXJfe8nM7JV",
        "outputId": "bd99e543-fd1f-4937-bba5-6eeecf1e8bba"
      },
      "execution_count": null,
      "outputs": [
        {
          "output_type": "stream",
          "name": "stdout",
          "text": [
            "2 is present in both\n"
          ]
        }
      ]
    },
    {
      "cell_type": "markdown",
      "source": [],
      "metadata": {
        "id": "6mSH2pGqq57r"
      }
    },
    {
      "cell_type": "code",
      "source": [],
      "metadata": {
        "id": "3DCJUdO6Uk_9"
      },
      "execution_count": null,
      "outputs": []
    },
    {
      "cell_type": "markdown",
      "source": [
        "Print out all colors from color-list1 not contained in color-list2.\n"
      ],
      "metadata": {
        "id": "JRwDJEU0G257"
      }
    },
    {
      "cell_type": "code",
      "source": [
        "Write lambda functions to find area of square, rectangle and triangle.\n"
      ],
      "metadata": {
        "id": "gEWm16vfHYF8"
      },
      "execution_count": null,
      "outputs": []
    },
    {
      "cell_type": "code",
      "source": [
        "n=int(input(\"enter the side of a square:\"))\n",
        "areasquare=lambda n:n*n\n",
        "print(\"area of square=\",areasquare(n))\n",
        "n1=int(input(\"enter the length of rectangle:\"))\n",
        "n2=int(input(\"enter the breadth of rectangle:\"))\n",
        "arearect=lambda n1,n2:n1*n2\n",
        "print(\"area of rectangle=\",arearect(n1, n2))\n",
        "l=int(input(\"enter the length of triangle:\"))\n",
        "b=int(input(\"enter the breadth of triangle:\"))\n",
        "areatri=lambda l,b:0.5*l*b\n",
        "print(\"area of triangle=\",areatri(l,b))"
      ],
      "metadata": {
        "colab": {
          "base_uri": "https://localhost:8080/"
        },
        "id": "80tGogN_JUsK",
        "outputId": "35261034-0272-4dd6-d229-6e731a2ed734"
      },
      "execution_count": null,
      "outputs": [
        {
          "output_type": "stream",
          "name": "stdout",
          "text": [
            "enter the side of a square:5\n",
            "area of square= 25\n",
            "enter the length of rectangle:8\n",
            "enter the breadth of rectangle:5\n",
            "area of rectangle= 40\n",
            "enter the length of triangle:7\n",
            "enter the breadth of triangle:2\n",
            "area of triangle= 7.0\n"
          ]
        }
      ]
    },
    {
      "cell_type": "code",
      "source": [],
      "metadata": {
        "id": "PchY_IOWU1y8"
      },
      "execution_count": null,
      "outputs": []
    },
    {
      "cell_type": "markdown",
      "source": [
        "Print out all colors from color-list1 not contained in color-list2.\n"
      ],
      "metadata": {
        "id": "d7Mp4P91PAdM"
      }
    },
    {
      "cell_type": "code",
      "source": [
        "list1=set([\"green\",\"blue\",\"red\",\"white\",\"violet\"])\n",
        "list2=set([\"green\",\"violet\"])\n",
        "print(list1.difference(list2))"
      ],
      "metadata": {
        "colab": {
          "base_uri": "https://localhost:8080/"
        },
        "id": "A6fUOmgwPBNi",
        "outputId": "c04e4012-b0e9-49bb-afef-b453b7c25798"
      },
      "execution_count": null,
      "outputs": [
        {
          "output_type": "stream",
          "name": "stdout",
          "text": [
            "{'blue', 'white', 'red'}\n"
          ]
        }
      ]
    },
    {
      "cell_type": "markdown",
      "source": [
        "Sort dictionary in ascending and descending order."
      ],
      "metadata": {
        "id": "DoxHxQHNQ6pC"
      }
    },
    {
      "cell_type": "code",
      "source": [
        "list1={1:\"apple\",2:\"orange\",3:\"cherry\",4:\"mango\"}"
      ],
      "metadata": {
        "id": "Otn0AX-JR9OT"
      },
      "execution_count": null,
      "outputs": []
    },
    {
      "cell_type": "code",
      "source": [
        "t1={\"name\":\"anjali\",\"age\":21,\"height\":164}\n",
        "t2={\"mobilenumber\":1234567891}\n",
        "print(t1|t2)\n",
        "m={**t1,**t2}\n",
        "print(m)\n",
        "t1\n",
        "print(t1.keys())\n",
        "print(t1.values())\n",
        "print(t1.items())\n",
        "print(t1 [\"age\"])\n",
        "t1.update({\"name1\":\"anirudh\"})\n",
        "t1"
      ],
      "metadata": {
        "colab": {
          "base_uri": "https://localhost:8080/"
        },
        "id": "Hyy4XD9CQ7W6",
        "outputId": "5ac9c2f4-ab30-4af8-9c8d-cfd7a3c0017c"
      },
      "execution_count": null,
      "outputs": [
        {
          "output_type": "stream",
          "name": "stdout",
          "text": [
            "{'name': 'anjali', 'age': 21, 'height': 164, 'mobilenumber': 1234567891}\n",
            "{'name': 'anjali', 'age': 21, 'height': 164, 'mobilenumber': 1234567891}\n",
            "dict_keys(['name', 'age', 'height'])\n",
            "dict_values(['anjali', 21, 164])\n",
            "dict_items([('name', 'anjali'), ('age', 21), ('height', 164)])\n",
            "21\n"
          ]
        },
        {
          "output_type": "execute_result",
          "data": {
            "text/plain": [
              "{'name': 'anjali', 'age': 21, 'height': 164, 'name1': 'anirudh'}"
            ]
          },
          "metadata": {},
          "execution_count": 22
        }
      ]
    },
    {
      "cell_type": "markdown",
      "source": [
        "#co1.18.Merge two dictionaries.\n"
      ],
      "metadata": {
        "id": "Kmc5T0h1Z0dz"
      }
    },
    {
      "cell_type": "code",
      "source": [
        "d1={}"
      ],
      "metadata": {
        "id": "IzHaf9gHbCNr"
      },
      "execution_count": null,
      "outputs": []
    },
    {
      "cell_type": "code",
      "source": [
        "d1={\"a\":1,\"b\":2}\n",
        "d2={\"b\":3,\"c\":4}\n",
        "d1.update({\"b\":20})\n",
        "d1.update({\"z\":20})\n",
        "sorted(d1.keys())\n",
        "print(dict(sorted(d1.items())))"
      ],
      "metadata": {
        "colab": {
          "base_uri": "https://localhost:8080/"
        },
        "id": "GquEmspJZ1Jj",
        "outputId": "b88ccbf7-0445-4663-f850-9cfbbfe3ae7c"
      },
      "execution_count": null,
      "outputs": [
        {
          "output_type": "stream",
          "name": "stdout",
          "text": [
            "{'a': 1, 'b': 20, 'z': 20}\n"
          ]
        }
      ]
    },
    {
      "cell_type": "code",
      "source": [
        "d1.items\n"
      ],
      "metadata": {
        "id": "gB10yF4PcNMc"
      },
      "execution_count": null,
      "outputs": []
    },
    {
      "cell_type": "code",
      "source": [],
      "metadata": {
        "id": "apD5gFHHSBlt"
      },
      "execution_count": null,
      "outputs": []
    },
    {
      "cell_type": "markdown",
      "source": [
        "#co1.17.Sort dictionary in ascending and descending order.\n",
        "\n"
      ],
      "metadata": {
        "id": "A5D5t6F61-jH"
      }
    },
    {
      "cell_type": "code",
      "source": [
        "d1={\"red\":1,\"green\":4,\"yellow\":3,\"violet\":2}\n",
        "print(\"Aescending order : \",dict(sorted(d1.items())))\n",
        "print(\"Descending order : \",dict(sorted(d1.items(), reverse=True)))\n"
      ],
      "metadata": {
        "colab": {
          "base_uri": "https://localhost:8080/"
        },
        "id": "J_oSxsMA4S86",
        "outputId": "1da13b0c-d2e9-42ef-b65a-b4a26a827925"
      },
      "execution_count": null,
      "outputs": [
        {
          "output_type": "stream",
          "name": "stdout",
          "text": [
            "Aescending order :  {'green': 4, 'red': 1, 'violet': 2, 'yellow': 3}\n",
            "Descending order :  {'yellow': 3, 'violet': 2, 'red': 1, 'green': 4}\n"
          ]
        }
      ]
    },
    {
      "cell_type": "markdown",
      "source": [
        "#co1.12.Accept a file name from user and print extension of that"
      ],
      "metadata": {
        "id": "Bhzro3uU7KQP"
      }
    },
    {
      "cell_type": "code",
      "source": [
        "f_name=input(\"enter a file name\")\n",
        "f_ext=f_name.split(\".\")\n",
        "print (\"extension:\",f_ext[-1])"
      ],
      "metadata": {
        "colab": {
          "base_uri": "https://localhost:8080/"
        },
        "id": "490xXRh47U8H",
        "outputId": "42f2bb1c-354c-4522-a7be-c5e780faa376"
      },
      "execution_count": null,
      "outputs": [
        {
          "output_type": "stream",
          "name": "stdout",
          "text": [
            "enter a file namearray.c\n",
            "extension: c\n"
          ]
        }
      ]
    },
    {
      "cell_type": "markdown",
      "source": [
        "#co1.14.Accept an integer n and compute n+nn+nnn.\n"
      ],
      "metadata": {
        "id": "NjGliSGH9xW2"
      }
    },
    {
      "cell_type": "code",
      "source": [
        "n=int(input(\"enter a number:\"))\n",
        "n1=n\n",
        "n2=n*n\n",
        "n3=n*n*n\n",
        "print(n1+n2+n3)"
      ],
      "metadata": {
        "colab": {
          "base_uri": "https://localhost:8080/"
        },
        "id": "LBgTpugV9yPl",
        "outputId": "c529c03e-198c-4561-9669-93cfdb7a4e03"
      },
      "execution_count": null,
      "outputs": [
        {
          "output_type": "stream",
          "name": "stdout",
          "text": [
            "enter a number:5\n",
            "155\n"
          ]
        }
      ]
    },
    {
      "cell_type": "markdown",
      "source": [
        "#co1.16.Create a single string separated with space from two strings by swapping the character at position 1.\n"
      ],
      "metadata": {
        "id": "RMRP0Xf6-jnW"
      }
    },
    {
      "cell_type": "code",
      "source": [
        "str1=input(\"enter a string\")\n",
        "str2=input(\"enter a string\")\n",
        "str3=str2[0]+str1[1:]+\"\"+str1[0]+str2[1:]\n",
        "print (\"swapping string\",str3)"
      ],
      "metadata": {
        "colab": {
          "base_uri": "https://localhost:8080/"
        },
        "id": "gbb8hRBz-kW-",
        "outputId": "11b86c44-de8f-4de6-e78c-bbf3fd0d3336"
      },
      "execution_count": null,
      "outputs": [
        {
          "output_type": "stream",
          "name": "stdout",
          "text": [
            "enter a stringanjali\n",
            "enter a stringraji\n",
            "swapping string rnjaliaaji\n"
          ]
        }
      ]
    },
    {
      "cell_type": "markdown",
      "source": [
        "#co1.19Find gcd of 2 numbers.\n",
        "\n"
      ],
      "metadata": {
        "id": "VeP-8RuRBwDm"
      }
    },
    {
      "cell_type": "code",
      "source": [
        "import math\n",
        "n1=int(input(\"enter the first number:\"))\n",
        "n2=int(input(\"enter the second number:\"))\n",
        "print(\"GCD:\",math.gcd(n1,n2))"
      ],
      "metadata": {
        "colab": {
          "base_uri": "https://localhost:8080/"
        },
        "id": "Mye6RlCoBx2W",
        "outputId": "18abf99e-0346-4a9d-cd2a-d3b37de5dad7"
      },
      "execution_count": null,
      "outputs": [
        {
          "output_type": "stream",
          "name": "stdout",
          "text": [
            "enter the first number:8\n",
            "enter the second number:6\n",
            "GCD: 2\n"
          ]
        }
      ]
    },
    {
      "cell_type": "markdown",
      "source": [
        "#co1.20From a list of integers, create a list removing even numbers.\n",
        "\n"
      ],
      "metadata": {
        "id": "PABti1FAChQP"
      }
    },
    {
      "cell_type": "code",
      "source": [
        "list=[1,2,3,4,5,6]\n",
        "print(\"original list is\",list)\n",
        "odd=[i for i in list if i%2!=0]\n",
        "print(\"list after removing even number are:\",odd)"
      ],
      "metadata": {
        "colab": {
          "base_uri": "https://localhost:8080/"
        },
        "id": "3IiXXCnaCk7Q",
        "outputId": "1cc912ac-3054-4e7e-bab8-6579333281e4"
      },
      "execution_count": null,
      "outputs": [
        {
          "output_type": "stream",
          "name": "stdout",
          "text": [
            "original list is [1, 2, 3, 4, 5, 6]\n",
            "list after removing even number are: [1, 3, 5]\n"
          ]
        }
      ]
    },
    {
      "cell_type": "markdown",
      "source": [],
      "metadata": {
        "id": "pFV5-zW1E7D5"
      }
    }
  ]
}