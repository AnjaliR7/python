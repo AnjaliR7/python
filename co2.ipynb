{
  "nbformat": 4,
  "nbformat_minor": 0,
  "metadata": {
    "colab": {
      "provenance": [],
      "authorship_tag": "ABX9TyNvSvDa+jScL4dst9ggzDyQ",
      "include_colab_link": true
    },
    "kernelspec": {
      "name": "python3",
      "display_name": "Python 3"
    },
    "language_info": {
      "name": "python"
    }
  },
  "cells": [
    {
      "cell_type": "markdown",
      "metadata": {
        "id": "view-in-github",
        "colab_type": "text"
      },
      "source": [
        "<a href=\"https://colab.research.google.com/github/AnjaliR7/python/blob/main/co2.ipynb\" target=\"_parent\"><img src=\"https://colab.research.google.com/assets/colab-badge.svg\" alt=\"Open In Colab\"/></a>"
      ]
    },
    {
      "cell_type": "code",
      "execution_count": null,
      "metadata": {
        "id": "6DPgpKuMFfl3"
      },
      "outputs": [],
      "source": [
        "Find the sum of all items in a list\n"
      ]
    },
    {
      "cell_type": "markdown",
      "source": [
        "#co2.3Find the sum of all items in a list"
      ],
      "metadata": {
        "id": "tKTcSg0gJQE-"
      }
    },
    {
      "cell_type": "code",
      "source": [
        "n=int(input(\"enter the size of list:\"))\n",
        "l=[int(input()) for i in range(n)]\n",
        "print(\"sum:\",sum(l3))"
      ],
      "metadata": {
        "colab": {
          "base_uri": "https://localhost:8080/"
        },
        "id": "rCyKYsFVG4yP",
        "outputId": "f1dd68f0-24ce-41f0-bc44-213a23e689ab"
      },
      "execution_count": null,
      "outputs": [
        {
          "output_type": "stream",
          "name": "stdout",
          "text": [
            "enter the size of list:5\n",
            "10\n",
            "0\n",
            "30\n",
            "2\n",
            "3\n",
            "sum: 45\n"
          ]
        }
      ]
    },
    {
      "cell_type": "markdown",
      "source": [
        "#co2.4Generate a list of four digit numbers in a given range with all their digits even and the number is a perfect square.\n"
      ],
      "metadata": {
        "id": "SXVjEygrJxie"
      }
    },
    {
      "cell_type": "code",
      "source": [
        "res=[]\n",
        "for i in range(1000,10000):\n",
        "    if all(int(x)%2==0 for x in str(i)):\n",
        "        if int(i**0.5)**2==i:\n",
        "            res.append(i)\n",
        "print(\"List of numbers : \",res)"
      ],
      "metadata": {
        "colab": {
          "base_uri": "https://localhost:8080/"
        },
        "id": "HsXcr2QHJ4bl",
        "outputId": "eda9b171-0ba9-4fac-af5d-5dbd02fe9fe6"
      },
      "execution_count": null,
      "outputs": [
        {
          "output_type": "stream",
          "name": "stdout",
          "text": [
            "List of numbers :  [4624, 6084, 6400, 8464]\n"
          ]
        }
      ]
    },
    {
      "cell_type": "markdown",
      "source": [
        "#co2.5.Display the given pyramid with step number accepted from user. Eg: N=4\n",
        "1\n",
        "2 4\n",
        "3 6 9\n",
        "4 8 12 16\n"
      ],
      "metadata": {
        "id": "aQGv1_vSKSyO"
      }
    },
    {
      "cell_type": "code",
      "source": [
        "n=int(input(\"Enter the no of rows : \"))\n",
        "k=1\n",
        "for i in range(1,n+1):\n",
        "  for j in range(1,i+1):\n",
        "    print(k,end=\" \")\n",
        "    k+=1\n",
        "  print(\"\\n\")"
      ],
      "metadata": {
        "colab": {
          "base_uri": "https://localhost:8080/"
        },
        "id": "FAdS50y7KYXc",
        "outputId": "fceebf69-1039-4ce5-9ed1-868c1a317022"
      },
      "execution_count": null,
      "outputs": [
        {
          "output_type": "stream",
          "name": "stdout",
          "text": [
            "Enter the no of rows : 2\n",
            "1 \n",
            "\n",
            "2 3 \n",
            "\n"
          ]
        }
      ]
    },
    {
      "cell_type": "markdown",
      "source": [
        "6. Count the number of characters (character frequency) in a string."
      ],
      "metadata": {
        "id": "UwQvqQ6jKz_0"
      }
    },
    {
      "cell_type": "code",
      "source": [
        "str=input(\"Enter a line : \")\n",
        "l=[]\n",
        "l=str.split();\n",
        "wc=[l.count(i) for i in l]\n",
        "print(dict(zip(l,wc)))"
      ],
      "metadata": {
        "id": "M4X7uadBK2bs"
      },
      "execution_count": null,
      "outputs": []
    }
  ]
}